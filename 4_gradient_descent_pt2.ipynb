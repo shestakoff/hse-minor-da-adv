{
 "cells": [
  {
   "cell_type": "markdown",
   "metadata": {
    "toc": "true"
   },
   "source": [
    "# Table of Contents\n",
    " <p><div class=\"lev1 toc-item\"><a href=\"#Памятка-по-методу-градиентного-спуска\" data-toc-modified-id=\"Памятка-по-методу-градиентного-спуска-1\"><span class=\"toc-item-num\">1&nbsp;&nbsp;</span>Памятка по методу градиентного спуска</a></div><div class=\"lev2 toc-item\"><a href=\"#Описание-задачи-линейной-регрессии\" data-toc-modified-id=\"Описание-задачи-линейной-регрессии-1.1\"><span class=\"toc-item-num\">1.1&nbsp;&nbsp;</span>Описание задачи линейной регрессии</a></div><div class=\"lev2 toc-item\"><a href=\"#Описание-метода-градиентного-спуска\" data-toc-modified-id=\"Описание-метода-градиентного-спуска-1.2\"><span class=\"toc-item-num\">1.2&nbsp;&nbsp;</span>Описание метода градиентного спуска</a></div><div class=\"lev2 toc-item\"><a href=\"#Пошаговое-описание-программной-реализации\" data-toc-modified-id=\"Пошаговое-описание-программной-реализации-1.3\"><span class=\"toc-item-num\">1.3&nbsp;&nbsp;</span>Пошаговое описание программной реализации</a></div><div class=\"lev2 toc-item\"><a href=\"#Задание\" data-toc-modified-id=\"Задание-1.4\"><span class=\"toc-item-num\">1.4&nbsp;&nbsp;</span>Задание</a></div><div class=\"lev1 toc-item\"><a href=\"#Градиентный-спуск-с-батч-оптимизацией\" data-toc-modified-id=\"Градиентный-спуск-с-батч-оптимизацией-2\"><span class=\"toc-item-num\">2&nbsp;&nbsp;</span>Градиентный спуск с батч-оптимизацией</a></div><div class=\"lev2 toc-item\"><a href=\"#Задание\" data-toc-modified-id=\"Задание-2.1\"><span class=\"toc-item-num\">2.1&nbsp;&nbsp;</span>Задание</a></div><div class=\"lev1 toc-item\"><a href=\"#Задание-(на-дом,-если-не-успеете)\" data-toc-modified-id=\"Задание-(на-дом,-если-не-успеете)-3\"><span class=\"toc-item-num\">3&nbsp;&nbsp;</span>Задание (на дом, если не успеете)</a></div>"
   ]
  },
  {
   "cell_type": "code",
   "execution_count": 1,
   "metadata": {
    "collapsed": true
   },
   "outputs": [],
   "source": [
    "import os\n",
    "import numpy as np\n",
    "import pandas as pd\n",
    "import matplotlib.pyplot as plt\n",
    "from mpl_toolkits import mplot3d\n",
    "#from tqdm import tqdm_notebook\n",
    "\n",
    "%matplotlib inline\n",
    "\n",
    "plt.style.use('ggplot')\n",
    "plt.rcParams['figure.figsize'] = (15, 6)"
   ]
  },
  {
   "cell_type": "markdown",
   "metadata": {},
   "source": [
    "# Памятка по методу градиентного спуска"
   ]
  },
  {
   "cell_type": "markdown",
   "metadata": {},
   "source": [
    "## Описание задачи линейной регрессии"
   ]
  },
  {
   "cell_type": "markdown",
   "metadata": {},
   "source": [
    "Напомним суть метода градиентого спуска в контексте задачи линейной регрессии.\n",
    "\n",
    "Дано описание $n$ объектов по $m$ признакам. Обычно оно выражается в виде матрицы размера $n \\times m$: $X = [x^{(i)}_j]^{i=1\\dots n}_{j=1\\dots m} $.<br\\> ($x^{(i)}_j$ означает $j$-ый признак $i$-го объекта) <br\\>\n",
    "Дана зависимая переменная, которая тоже имеет отношение к этим объекам: $y$ - вектор длины $n$.\n",
    "\n",
    "Наша задача, выявить **линейную** зависимость между признаками в $X$ и значениями в $y$:\n",
    "$$\\hat{y} = X\\beta \\quad \\Leftrightarrow \\quad \\hat{y}^{(i)} = \\beta_0 + \\beta_1x^{(i)}_1 + \\dots$$\n",
    "\n",
    "И сделать это так, чтобы квадрат суммы ошибок наших оценок был минимален:\n",
    "$$ L(\\beta) = \\frac{1}{2n}(\\hat{y} - y)^{\\top}(\\hat{y} - y) = \\frac{1}{2n}(X\\beta - y)^{\\top}(X\\beta - y) \\rightarrow \\min$$ $$ \\Updownarrow $$  $$ L(\\beta_0,\\beta_1,\\dots) = \\frac{1}{2n}\\sum^{n}_{i=1}(\\hat{y}^{(i)} - y^{(i)})^2 = \\frac{1}{2n}\\sum^{n}_{i=1}(\\beta_0 + \\beta_1x^{(i)}_1 + \\dots - y^{(i)})^2  \\rightarrow \\min $$\n",
    "\n",
    "Значение в $X$ и $y$ нам даны. Нам неизвестны только значения коэффициентов $\\beta$.<br\\> Соответственно, нужно найти такие значения $\\beta$, что функция $L(\\beta) \\rightarrow \\min.$"
   ]
  },
  {
   "cell_type": "markdown",
   "metadata": {},
   "source": [
    "## Описание метода градиентного спуска"
   ]
  },
  {
   "cell_type": "markdown",
   "metadata": {},
   "source": [
    "Пусть нам известнен 1 признак объекта и мы включаем свободный член у ровнение регрессии.\n",
    "\n",
    "Посчитаем, чему равен градиент функции потерь $L(\\beta_0, \\beta_1):$\n",
    "$$ \\frac{\\partial L}{\\partial \\beta_0} = \\frac{1}{n}\\sum^{n}_{i=1}(\\beta_0 + \\beta_1x^{(i)}_1 - y^{(i)})$$\n",
    "$$ \\frac{\\partial L}{\\partial \\beta_1} = \\frac{1}{n}\\sum^{n}_{i=1}(\\beta_0 + \\beta_1x^{(i)}_1 - y^{(i)})x_1^{(i)}$$\n",
    "\n",
    "Иногда проще это записать в виде матриц:\n",
    "$$ \\frac{\\partial L}{\\partial \\beta} = X^\\top(X\\beta - y)$$\n"
   ]
  },
  {
   "cell_type": "markdown",
   "metadata": {},
   "source": [
    "Метод градиентного спуска заключается в итеративном и **одновременном(!!!)** обновлении значений $\\beta$ в направлении, противоположному градиенту:\n",
    "$$ \\beta := \\beta - \\alpha\\frac{\\partial L}{\\partial \\beta}$$"
   ]
  },
  {
   "cell_type": "markdown",
   "metadata": {},
   "source": [
    "## Пошаговое описание программной реализации"
   ]
  },
  {
   "cell_type": "markdown",
   "metadata": {},
   "source": [
    "Для начала нам понадобятся данные. \n",
    "\n",
    "Используем те же данные про грузовики, что и были даны на втором семинаре. Нам дано два столбца значений — количество жителей в городе и доход грузовика с уличной едой в этом городе.\n",
    "\n",
    "Будем строить модель, описывающую зависимость дохода от размера населения."
   ]
  },
  {
   "cell_type": "code",
   "execution_count": 1,
   "metadata": {
    "collapsed": false
   },
   "outputs": [
    {
     "name": "stdout",
     "output_type": "stream",
     "text": [
      "6.1101,17.592\r\n",
      "5.5277,9.1302\r\n",
      "8.5186,13.662\r\n",
      "7.0032,11.854\r\n",
      "5.8598,6.8233\r\n",
      "8.3829,11.886\r\n",
      "7.4764,4.3483\r\n",
      "8.5781,12\r\n",
      "6.4862,6.5987\r\n",
      "5.0546,3.8166\r\n"
     ]
    }
   ],
   "source": [
    "!head ./data/food_trucks.txt"
   ]
  },
  {
   "cell_type": "code",
   "execution_count": 16,
   "metadata": {
    "collapsed": false
   },
   "outputs": [
    {
     "data": {
      "text/plain": [
       "<matplotlib.text.Text at 0x115b2cd50>"
      ]
     },
     "execution_count": 16,
     "metadata": {},
     "output_type": "execute_result"
    },
    {
     "data": {
      "image/png": "[encoded data removed]",
      "text/plain": [
       "<matplotlib.figure.Figure at 0x115b18b10>"
      ]
     },
     "metadata": {},
     "output_type": "display_data"
    }
   ],
   "source": [
    "filepath = os.path.join('data', 'food_trucks.txt')\n",
    "data = np.loadtxt(filepath, delimiter=',')\n",
    "plt.scatter(data[:,0], data[:, 1])\n",
    "plt.xlabel('population')\n",
    "plt.ylabel('income')"
   ]
  },
  {
   "cell_type": "code",
   "execution_count": 22,
   "metadata": {
    "collapsed": false
   },
   "outputs": [],
   "source": [
    "# Тогда X - это будет матрица размера ( 97x2 ), a y - вектор-столбец\n",
    "\n",
    "data[:, 0] = (data[:, 0] - data[:, 0].mean())/data[:, 0].std()\n",
    "X = np.c_[data[:, 0], np.ones((data.shape[0], 1))]\n",
    "\n",
    "y = data[:, 1]"
   ]
  },
  {
   "cell_type": "markdown",
   "metadata": {},
   "source": [
    "Теперь научимся считать ошибку модели. Для этого нам нужны коэффициенты. \n",
    "Пока возьмем некоторые случайные значения"
   ]
  },
  {
   "cell_type": "code",
   "execution_count": 19,
   "metadata": {
    "collapsed": false
   },
   "outputs": [],
   "source": [
    "Beta = np.array([5,6])"
   ]
  },
  {
   "cell_type": "markdown",
   "metadata": {},
   "source": [
    "Как было показано выше: \n",
    "$$ \\hat{y}^{(i)} = \\beta_0 + \\beta_1x^{(i)}_1 + \\dots \\quad \\Leftrightarrow \\quad \\hat{y} = X\\beta \\quad \\Leftrightarrow \\quad \\texttt{y_hat = X.dot(Beta)} $$"
   ]
  },
  {
   "cell_type": "code",
   "execution_count": 20,
   "metadata": {
    "collapsed": true
   },
   "outputs": [],
   "source": []
  },
  {
   "cell_type": "markdown",
   "metadata": {},
   "source": [
    "Соответственно, ошибка это $(X\\beta - y)$, а функция потерь $ L(\\beta) = \\frac{1}{2n}(X\\beta - y)^{\\top}(X\\beta - y) = \\frac{1}{2n}\\sum^{n}_{i=1}(\\beta_0 + \\beta_1x^{(i)}_1 + \\dots - y^{(i)})^2 $"
   ]
  },
  {
   "cell_type": "code",
   "execution_count": 21,
   "metadata": {
    "collapsed": true
   },
   "outputs": [],
   "source": []
  },
  {
   "cell_type": "markdown",
   "metadata": {},
   "source": [
    "Отлично, мы научились считать ошибку при заданных $\\beta$. Теперь выразим градиент:\n",
    "\n",
    "$$ \\frac{\\partial L}{\\partial \\beta} = X^\\top(X\\beta - y) \\quad \\Leftrightarrow \\quad  \\texttt{grad = X.T.dot(error)} $$"
   ]
  },
  {
   "cell_type": "markdown",
   "metadata": {},
   "source": [
    "Теперь к шагам алгоритма:\n",
    "\n",
    "* Задаем случайное начальное значение для $\\beta$\n",
    "* Пока не будет достигнуто правило останова:\n",
    "    * Считаем ошибку и значение функции потерь\n",
    "    * Считаем градиент\n",
    "    * Обновляем коэффициенты"
   ]
  },
  {
   "cell_type": "code",
   "execution_count": 24,
   "metadata": {
    "collapsed": true
   },
   "outputs": [],
   "source": [
    "def gradient_descent(X, y, iters, alpha):\n",
    "    n = y.shape[0] \n",
    "    Beta = np.random.rand(2)\n",
    "    for i in xrange(iters):\n",
    "        y_hat = X.dot(Beta)\n",
    "        \n",
    "        # считаем ошибку и значение функции потерь\n",
    "        #...\n",
    "        \n",
    "        # считаем градиент\n",
    "        #...\n",
    "\n",
    "        # обновляем коэффициенты\n",
    "        # ...\n",
    "    return Beta"
   ]
  },
  {
   "cell_type": "code",
   "execution_count": 25,
   "metadata": {
    "collapsed": true
   },
   "outputs": [],
   "source": [
    "Beta = gradient_descent(X, y, 1000, 0.05)"
   ]
  },
  {
   "cell_type": "markdown",
   "metadata": {},
   "source": [
    "Изобразим функцию потерь"
   ]
  },
  {
   "cell_type": "code",
   "execution_count": 54,
   "metadata": {
    "collapsed": false
   },
   "outputs": [
    {
     "data": {
      "text/plain": [
       "<matplotlib.text.Text at 0x115f61250>"
      ]
     },
     "execution_count": 54,
     "metadata": {},
     "output_type": "execute_result"
    },
    {
     "data": {
      "image/png": "[encoded data removed]",
      "text/plain": [
       "<matplotlib.figure.Figure at 0x115b94cd0>"
      ]
     },
     "metadata": {},
     "output_type": "display_data"
    }
   ],
   "source": [
    "# Возьмем значения для коэффициентов на интервале от 0 до 10\n",
    "beta0, beta1 = np.meshgrid(np.linspace(0, 10, 100), np.linspace(0, 10, 100))\n",
    "BetaArr = np.r_[beta0.reshape(1,-1), beta1.reshape(1,-1)]\n",
    "\n",
    "# Посчитаем ошибку от всевозможных паросочетаний\n",
    "y_hat = X.dot(BetaArr)\n",
    "error = y_hat - y.reshape(-1,1)\n",
    "cost = np.sum(error ** 2, 0) / (2 * n)\n",
    "cost = cost.reshape(beta0.shape)\n",
    "\n",
    "plt.figure(figsize=(6,6))\n",
    "contour = plt.contour(beta0, beta1, cost)\n",
    "plt.clabel(contour, inline=1, fontsize=10)\n",
    "plt.xlabel('$\\\\beta_0$')\n",
    "plt.ylabel('$\\\\beta_1$')"
   ]
  },
  {
   "cell_type": "markdown",
   "metadata": {},
   "source": [
    "## Задание"
   ]
  },
  {
   "cell_type": "markdown",
   "metadata": {},
   "source": [
    "* Добавьте правило останова, срабатывающее при слабом изменении функции потерь\n",
    "* Измените функцию градиентного спуска так, чтобы темп обучения мог меняться динамически \n",
    "* Дополните функцию, чтобы она так же выводила значения коэффициентов и функции потерь на некоторых итерациях. Выведите \"прогресс\" спуска на график выше\n"
   ]
  },
  {
   "cell_type": "code",
   "execution_count": null,
   "metadata": {
    "collapsed": true
   },
   "outputs": [],
   "source": []
  },
  {
   "cell_type": "markdown",
   "metadata": {},
   "source": [
    "# Градиентный спуск с батч-оптимизацией\n",
    "\n",
    "Теперь рассмотрим случай, когда данных в выборке много. \n",
    "\n",
    "В таких случаях используется стохастическая или батч-оптимизация. Первая состоит в том, что на каждом шаге итерации берется один объект, вторая — в том, что берется некоторое небольшое фиксированное количество объектов."
   ]
  },
  {
   "cell_type": "markdown",
   "metadata": {},
   "source": [
    "Загрузите данные из файла space_ga.csv и нормализуйте их. Мы будем предсказывать первый столбец по шести остальным. Эти данные получены с выборов в США в 1980 году. Подробнее о столбцах можно прочитать [тут](http://mldata.org/repository/data/viewslug/statlib-20050214-space_ga/)"
   ]
  },
  {
   "cell_type": "code",
   "execution_count": null,
   "metadata": {
    "collapsed": true
   },
   "outputs": [],
   "source": []
  },
  {
   "cell_type": "markdown",
   "metadata": {},
   "source": [
    "Как вы могли заметить, датасет больше предыдущего. На нём мы попробуем батч-оптимизацию.\n",
    "\n",
    "## Задание\n",
    "Измените функцию для градиентного спуска так, чтобы на вход она принимала дополнительный параметр — размер батча. Для простоты проверки рекомендуется изменять копию функции, реализованной выше, с измененным именем. Прокомментируйте результаты.\n",
    "\n",
    "**Замечания**<br/>\n",
    "* Объекты нужно сначала перемешать, а затем разделить на батчи\n",
    "* Для разделения на батчи можно использовать функцию np.array_split()\n",
    "* Учитите, что ошибка (и, соответственно, градиент) считается об объектам попавшим в батч, а значение функции потерь - по всем объектам."
   ]
  },
  {
   "cell_type": "code",
   "execution_count": null,
   "metadata": {
    "collapsed": true
   },
   "outputs": [],
   "source": []
  },
  {
   "cell_type": "markdown",
   "metadata": {},
   "source": [
    "# Задание (на дом, если не успеете)\n",
    "\n"
   ]
  },
  {
   "cell_type": "markdown",
   "metadata": {},
   "source": [
    "Сейчас мы сделаем ровно тоже самое, но для логистической регресии.\n",
    "\n",
    "Рассмотрим принадлежность к классу $y=\\pm1$ некого объекта $x$: $p(y=\\pm1 | x,\\beta)$ и выразим её через **сигмойду** от **отступа**:\n",
    "$$p(y=\\pm1|x,\\beta) = \\sigma(y \\langle \\beta, x \\rangle), $$\n",
    "где \n",
    "$$\\sigma(z) = \\frac{1}{1 + exp{(-z)}},$$\n",
    "\n",
    "А ошибка, которую мы будем минимизировать - логарифмическая:\n",
    "\n",
    "$$L(\\beta) = -\\frac{1}{N}\\sum_i \\log(\\sigma(y^{(i)} \\langle \\beta, x^{(i)} \\rangle)) \\rightarrow \\min_\\beta$$"
   ]
  },
  {
   "cell_type": "markdown",
   "metadata": {},
   "source": [
    "Соответственно, вам нужно:\n",
    "* Вычислить градиент $L(\\beta)$ по $\\beta$\n",
    "* Модифицировать функцию градиентного спуска, чтобы он работал с логарифмической функцией потерь\n",
    "\n",
    "Примените функцию к данным [по успешности забивания голов в NFL](http://www.stat.ufl.edu/~winner/data/fieldgoal.dat). Описание вы найдете [здесь](http://www.stat.ufl.edu/~winner/data/fieldgoal.txt).\n",
    "В уравнение регрессии включайте только расстояние до ворот (первый столбец) и свободный член."
   ]
  },
  {
   "cell_type": "code",
   "execution_count": null,
   "metadata": {
    "collapsed": true
   },
   "outputs": [],
   "source": []
  }
 ],
 "metadata": {
  "anaconda-cloud": {},
  "kernelspec": {
   "display_name": "Python [conda root]",
   "language": "python",
   "name": "conda-root-py"
  },
  "language_info": {
   "codemirror_mode": {
    "name": "ipython",
    "version": 2
   },
   "file_extension": ".py",
   "mimetype": "text/x-python",
   "name": "python",
   "nbconvert_exporter": "python",
   "pygments_lexer": "ipython2",
   "version": "2.7.12"
  },
  "nav_menu": {},
  "toc": {
   "navigate_menu": true,
   "number_sections": true,
   "sideBar": true,
   "threshold": 6,
   "toc_cell": true,
   "toc_section_display": "block",
   "toc_window_display": true
  }
 },
 "nbformat": 4,
 "nbformat_minor": 0
}
