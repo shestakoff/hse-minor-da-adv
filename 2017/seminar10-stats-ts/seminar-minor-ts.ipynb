{
 "cells": [
  {
   "cell_type": "markdown",
   "metadata": {},
   "source": [
    "# Майнор по Анализу Данных, Группа ИАД-4\n",
    "## 7/12/2017 Прогнозирование временных рядов"
   ]
  },
  {
   "cell_type": "code",
   "execution_count": null,
   "metadata": {
    "collapsed": true
   },
   "outputs": [],
   "source": [
    "import pandas as pd\n",
    "from scipy import stats\n",
    "import statsmodels.api as sm\n",
    "import matplotlib.pyplot as plt\n",
    "import warnings\n",
    "import numpy as np\n",
    "from itertools import product\n",
    "\n",
    "plt.style.use('ggplot')\n",
    "    \n",
    "%matplotlib inline\n",
    "\n",
    "plt.rcParams['figure.figsize'] = (14, 7)"
   ]
  },
  {
   "cell_type": "code",
   "execution_count": null,
   "metadata": {
    "collapsed": true
   },
   "outputs": [],
   "source": [
    "import statsmodels\n",
    "statsmodels.__version__"
   ]
  },
  {
   "cell_type": "markdown",
   "metadata": {},
   "source": [
    "**Должно быть что-то >= 0.8**, если нет - то обновите пакет (требуется перезагрузка kernel)"
   ]
  },
  {
   "cell_type": "markdown",
   "metadata": {},
   "source": [
    "### Перейдем к данным"
   ]
  },
  {
   "cell_type": "markdown",
   "metadata": {},
   "source": [
    "Известны [ежемесячные продажи австралийского вина](https://cloud.mail.ru/public/MUy3/UQKzvb8zt) в тысячах литров с января 1980 по июль 1995, необходимо построить прогноз на следующие три года."
   ]
  },
  {
   "cell_type": "code",
   "execution_count": null,
   "metadata": {
    "collapsed": true
   },
   "outputs": [],
   "source": [
    "wine = pd.read_csv('monthly-australian-wine-sales.csv',',', index_col=['month'], parse_dates=['month'], dayfirst=True)"
   ]
  },
  {
   "cell_type": "code",
   "execution_count": null,
   "metadata": {
    "collapsed": true
   },
   "outputs": [],
   "source": [
    "wine.head()"
   ]
  },
  {
   "cell_type": "code",
   "execution_count": null,
   "metadata": {
    "collapsed": true
   },
   "outputs": [],
   "source": [
    "wine.sales.plot()\n",
    "plt.ylabel('Wine sales')"
   ]
  },
  {
   "cell_type": "markdown",
   "metadata": {},
   "source": [
    "Проверим гипотезу о стационарности ряда"
   ]
  },
  {
   "cell_type": "code",
   "execution_count": null,
   "metadata": {
    "collapsed": true
   },
   "outputs": [],
   "source": [
    "print \"Критерий Дики-Фуллера: p=%f\" % sm.tsa.stattools.adfuller(wine.sales)[1] "
   ]
  },
  {
   "cell_type": "markdown",
   "metadata": {},
   "source": [
    "Ряд можно представить в виде трех компонент:\n",
    "* $S_t$ - сезонная компонента\n",
    "* $T_t$ - тренд\n",
    "* $E_t$ - остаточная компонента\n",
    "\n",
    "Аддитивное разложение ряда:\n",
    "$$ y_t = S_t + T_t + E_t, $$\n",
    "\n",
    "Мультипликативное разложение ряда:\n",
    "$$ y_t = S_t \\times T_t \\times E_t, $$\n",
    "\n",
    "**Вопрос**: как из мультипликативного разложения можно перейти в аддитивное?\n"
   ]
  },
  {
   "cell_type": "markdown",
   "metadata": {},
   "source": [
    "Разложим наш ряд на эти компоненты - ниже вы увидите результат разложения методом [STL](http://www.wessa.net/download/stl.pdf)."
   ]
  },
  {
   "cell_type": "code",
   "execution_count": null,
   "metadata": {
    "collapsed": true
   },
   "outputs": [],
   "source": [
    "fig = sm.tsa.seasonal_decompose(wine.sales).plot()"
   ]
  },
  {
   "cell_type": "markdown",
   "metadata": {},
   "source": [
    "Как соотносятся эти рисунки и результаты проверки на стационарность?"
   ]
  },
  {
   "cell_type": "markdown",
   "metadata": {},
   "source": [
    "### Стабилизация дисперсии"
   ]
  },
  {
   "cell_type": "markdown",
   "metadata": {},
   "source": [
    "Сделаем преобразование Бокса-Кокса для стабилизации дисперсии.\n",
    "\n",
    "Это преобразование имеет параметр $\\lambda$  и имеет следующий вид:\n",
    "\n",
    "* $w_t = \\log(y_t)$ если $\\lambda = 0$\n",
    "* $w_t = (y_t^\\lambda -1)/\\lambda$ иначе\n",
    "\n",
    "Параметр $\\lambda$ определяется автоматически при решении задачи максимизации [правдоподобия](http://www.jekyll.math.byuh.edu/papers/mspaper99.pdf)."
   ]
  },
  {
   "cell_type": "code",
   "execution_count": null,
   "metadata": {
    "collapsed": true
   },
   "outputs": [],
   "source": [
    "wine['sales_box'], lmbda = stats.boxcox(wine.sales)\n",
    "wine.sales_box.plot()\n",
    "plt.ylabel(u'Transformed wine sales')\n",
    "print(\"Оптимальный параметр преобразования Бокса-Кокса: %f\" % lmbda)\n",
    "print(\"Критерий Дики-Фуллера: p=%f\" % sm.tsa.stattools.adfuller(wine.sales_box)[1])"
   ]
  },
  {
   "cell_type": "markdown",
   "metadata": {},
   "source": [
    "### Стационарность"
   ]
  },
  {
   "cell_type": "markdown",
   "metadata": {},
   "source": [
    "Критерий Дики-Фуллера отвергает гипотезу нестационарности, но визуально в данных виден тренд. \n",
    "\n",
    "Попробуем сезонное дифференцирование; сделаем на продифференцированном ряде STL-декомпозицию и проверим стационарность:"
   ]
  },
  {
   "cell_type": "code",
   "execution_count": null,
   "metadata": {
    "collapsed": true
   },
   "outputs": [],
   "source": [
    "wine['sales_box_diff'] = wine.sales_box - wine.sales_box.shift(12)\n",
    "fig = sm.tsa.seasonal_decompose(wine.sales_box_diff[12:]).plot()\n",
    "print \"Критерий Дики-Фуллера: p=%f\" % sm.tsa.stattools.adfuller(wine.sales_box_diff[12:])[1]"
   ]
  },
  {
   "cell_type": "markdown",
   "metadata": {},
   "source": [
    "Критерий Дики-Фуллера не отвергает гипотезу нестационарности, и полностью избавиться от тренда не удалось. \n",
    "\n",
    "Попробуем добавить ещё обычное дифференцирование:"
   ]
  },
  {
   "cell_type": "code",
   "execution_count": null,
   "metadata": {
    "collapsed": true
   },
   "outputs": [],
   "source": [
    "wine['sales_box_diff2'] = wine.sales_box_diff - wine.sales_box_diff.shift(1)\n",
    "fig = sm.tsa.seasonal_decompose(wine.sales_box_diff2[13:]).plot()   \n",
    "print(\"Критерий Дики-Фуллера: p=%f\" % sm.tsa.stattools.adfuller(wine.sales_box_diff2[13:])[1])"
   ]
  },
  {
   "cell_type": "markdown",
   "metadata": {},
   "source": [
    "Гипотеза нестационарности отвергается, и визуально ряд выглядит лучше — тренда больше нет. "
   ]
  },
  {
   "cell_type": "markdown",
   "metadata": {},
   "source": [
    "## Подбор параметров модели"
   ]
  },
  {
   "cell_type": "markdown",
   "metadata": {},
   "source": [
    "Посмотрим на ACF и PACF полученного ряда:"
   ]
  },
  {
   "cell_type": "markdown",
   "metadata": {},
   "source": [
    "Вспомним, как считается выборочная автокорреляция (ACF)\n",
    "\n",
    "$$r_\\tau = \\frac{\\sum_{t=1}^{T-\\tau} (y_t - \\bar{y}) (y_{t+\\tau} - \\bar{y})}{\\sum_{t=1}^{T} (y_t - \\bar{y})^2}$$\n",
    "\n",
    "PACF выполняет корректировку на возможную корреляцию между лагами меньшего порядка. <br\\>\n",
    "*Если есть корреляция между $y_{t}$ и $y_{t-1}$ (а соответственно между $y_{t-1}$ и $y_{t-2}$) то корреляция между $y_{t}$ и $y_{t-2}$ тоже будет высока*"
   ]
  },
  {
   "cell_type": "code",
   "execution_count": null,
   "metadata": {
    "collapsed": true
   },
   "outputs": [],
   "source": [
    "# fig, ax = plt.subplots(2,1)\n",
    "fig = sm.graphics.tsa.plot_acf(wine.sales_box_diff2[13:].values.squeeze(), lags=48)"
   ]
  },
  {
   "cell_type": "code",
   "execution_count": null,
   "metadata": {
    "collapsed": true
   },
   "outputs": [],
   "source": [
    "fig = sm.graphics.tsa.plot_pacf(wine.sales_box_diff2[13:].values.squeeze(), lags=48)"
   ]
  },
  {
   "cell_type": "markdown",
   "metadata": {},
   "source": [
    "### Начальное приближение"
   ]
  },
  {
   "cell_type": "markdown",
   "metadata": {},
   "source": [
    "Начальные приближения: Q=1, q=2, P=1, p=4\n",
    "\n",
    "* Q = 1, потому что на графике ACF наблюдается значимое значение на лаге 12 - это сезонность\n",
    "* q = 2, потому что на графике ACF налюдается значимое значение на лаге 1 и 2\n",
    "* P = 1, потому что на графике PACF наблюдается значимое значение на лаге 12 - это сезонность\n",
    "* p = 2, потому что на графике PACF налюдается значимое значение на лаге 1 - 4"
   ]
  },
  {
   "cell_type": "code",
   "execution_count": null,
   "metadata": {
    "collapsed": true
   },
   "outputs": [],
   "source": [
    "D=1 # Потому что мы сезонный сдвиг\n",
    "d=1 # Потому что мы сделали обычный сдвиг на 1 шаг\n",
    "\n",
    "p = 2\n",
    "q = 2\n",
    "P = 1\n",
    "Q = 1\n",
    "\n",
    "\n",
    "model = sm.tsa.statespace.SARIMAX(wine.sales_box, order=(p, d, q), \n",
    "                                seasonal_order=(P, D, Q, 12)).fit(disp=-1)"
   ]
  },
  {
   "cell_type": "markdown",
   "metadata": {},
   "source": [
    "[AIC](https://ru.wikipedia.org/wiki/%D0%98%D0%BD%D1%84%D0%BE%D1%80%D0%BC%D0%B0%D1%86%D0%B8%D0%BE%D0%BD%D0%BD%D1%8B%D0%B9_%D0%BA%D1%80%D0%B8%D1%82%D0%B5%D1%80%D0%B8%D0%B9_%D0%90%D0%BA%D0%B0%D0%B8%D0%BA%D0%B5) - величина, основанная на сложности и точности модели. Чем меньше значение, тем лучше модель."
   ]
  },
  {
   "cell_type": "code",
   "execution_count": null,
   "metadata": {
    "collapsed": true,
    "scrolled": true
   },
   "outputs": [],
   "source": [
    "model.aic"
   ]
  },
  {
   "cell_type": "code",
   "execution_count": null,
   "metadata": {
    "collapsed": true
   },
   "outputs": [],
   "source": [
    "model.summary()"
   ]
  },
  {
   "cell_type": "markdown",
   "metadata": {},
   "source": [
    "Анализ остатков"
   ]
  },
  {
   "cell_type": "code",
   "execution_count": null,
   "metadata": {
    "collapsed": true
   },
   "outputs": [],
   "source": [
    "_, ax = plt.subplots(2,1)\n",
    "model.resid[13:].plot(ax=ax[0])\n",
    "ax[0].set_ylabel(u'Residuals')\n",
    "\n",
    "fig = sm.graphics.tsa.plot_acf(model.resid[13:].values.squeeze(), lags=48, ax=ax[1])\n",
    "\n",
    "print \"Критерий Стьюдента: p=%f\" % stats.ttest_1samp(model.resid[13:].values, 0)[1]\n",
    "print \"Критерий Дики-Фуллера: p=%f\" % sm.tsa.stattools.adfuller(model.resid[13:])[1] "
   ]
  },
  {
   "cell_type": "markdown",
   "metadata": {},
   "source": [
    "Реализуйте фукнцию которая делает обратное преобразование Бокс-Кокса и выполните прогноз"
   ]
  },
  {
   "cell_type": "code",
   "execution_count": null,
   "metadata": {
    "collapsed": true
   },
   "outputs": [],
   "source": [
    "def invboxcox(y,lmbda):\n",
    "    ## Your Code Here"
   ]
  },
  {
   "cell_type": "code",
   "execution_count": null,
   "metadata": {
    "collapsed": true
   },
   "outputs": [],
   "source": [
    "wine['model'] = invboxcox(model.fittedvalues, lmbda)\n",
    "wine.sales.plot()\n",
    "wine.model[13:].plot(color='b')\n",
    "plt.ylabel('Wine sales')"
   ]
  },
  {
   "cell_type": "markdown",
   "metadata": {},
   "source": [
    "### Перебор параметров"
   ]
  },
  {
   "cell_type": "markdown",
   "metadata": {},
   "source": [
    "Задайте наборы параметров (p, q, P, Q) и выберите модель с наилучшим набором по критерию aic"
   ]
  },
  {
   "cell_type": "code",
   "execution_count": null,
   "metadata": {
    "collapsed": true
   },
   "outputs": [],
   "source": [
    "# Зададим распределение параметров и найдем лучший набор\n",
    "ps = range(0, ?)\n",
    "qs = range(0, ?)\n",
    "Ps = range(0, ?)\n",
    "Qs = range(0, ?)\n",
    "\n",
    "parameters_list = ?"
   ]
  },
  {
   "cell_type": "code",
   "execution_count": null,
   "metadata": {
    "collapsed": true
   },
   "outputs": [],
   "source": [
    "# Your Code Here"
   ]
  },
  {
   "cell_type": "code",
   "execution_count": null,
   "metadata": {
    "collapsed": true
   },
   "outputs": [],
   "source": [
    "%%time\n",
    "results = []\n",
    "best_aic = np.inf\n",
    "warnings.filterwarnings('ignore')\n",
    "\n",
    "for param in parameters_list:\n",
    "    #try except нужен, потому что на некоторых наборах параметров модель не обучается\n",
    "    try:\n",
    "        model=..\n",
    "    except ValueError:\n",
    "        print('wrong parameters:', param)\n",
    "        continue\n",
    "    #сохраняем лучшую модель, aic, параметры\n",
    "    ## Your Code Here"
   ]
  },
  {
   "cell_type": "code",
   "execution_count": null,
   "metadata": {
    "collapsed": true
   },
   "outputs": [],
   "source": [
    "result_table = pd.DataFrame(results)\n",
    "result_table.columns = ['parameters', 'aic']\n",
    "print(result_table.sort_values(by = 'aic', ascending=True).head())"
   ]
  },
  {
   "cell_type": "markdown",
   "metadata": {},
   "source": [
    "Лучшая модель:"
   ]
  },
  {
   "cell_type": "code",
   "execution_count": null,
   "metadata": {
    "collapsed": true
   },
   "outputs": [],
   "source": [
    "print(best_model.summary())"
   ]
  },
  {
   "cell_type": "markdown",
   "metadata": {},
   "source": [
    "### Прогноз"
   ]
  },
  {
   "cell_type": "code",
   "execution_count": null,
   "metadata": {
    "collapsed": true
   },
   "outputs": [],
   "source": [
    "from pandas.tseries.offsets import MonthBegin"
   ]
  },
  {
   "cell_type": "code",
   "execution_count": null,
   "metadata": {
    "collapsed": true
   },
   "outputs": [],
   "source": [
    "best_model.predict(start=176, end=211)"
   ]
  },
  {
   "cell_type": "code",
   "execution_count": null,
   "metadata": {
    "collapsed": true
   },
   "outputs": [],
   "source": [
    "## Your Code Here"
   ]
  },
  {
   "cell_type": "markdown",
   "metadata": {},
   "source": [
    "## Facebook Phophet"
   ]
  },
  {
   "cell_type": "markdown",
   "metadata": {},
   "source": [
    "Facebook выложил собственную библиотеку автоматического прогнозирования временных рядов [Prophet](https://github.com/facebook/prophet).\n",
    "\n",
    "Если у вас получится ее установить - можете поиграться"
   ]
  }
 ],
 "metadata": {
  "anaconda-cloud": {},
  "kernelspec": {
   "display_name": "Python [conda root]",
   "language": "python",
   "name": "conda-root-py"
  },
  "language_info": {
   "codemirror_mode": {
    "name": "ipython",
    "version": 2
   },
   "file_extension": ".py",
   "mimetype": "text/x-python",
   "name": "python",
   "nbconvert_exporter": "python",
   "pygments_lexer": "ipython2",
   "version": "2.7.14"
  },
  "nav_menu": {},
  "toc": {
   "colors": {
    "hover_highlight": "#DAA520",
    "navigate_num": "#000000",
    "navigate_text": "#333333",
    "running_highlight": "#FF0000",
    "selected_highlight": "#FFD700",
    "sidebar_border": "#EEEEEE",
    "wrapper_background": "#FFFFFF"
   },
   "moveMenuLeft": true,
   "nav_menu": {
    "height": "161px",
    "width": "253px"
   },
   "navigate_menu": true,
   "number_sections": false,
   "sideBar": true,
   "threshold": 4,
   "toc_cell": false,
   "toc_section_display": "block",
   "toc_window_display": true,
   "widenNotebook": false
  }
 },
 "nbformat": 4,
 "nbformat_minor": 1
}
