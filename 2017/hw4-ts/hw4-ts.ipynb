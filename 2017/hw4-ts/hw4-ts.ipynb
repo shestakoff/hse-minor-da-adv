{
 "cells": [
  {
   "cell_type": "markdown",
   "metadata": {},
   "source": [
    "# Домашняя работа №4 - прогнозирование временных рядов"
   ]
  },
  {
   "cell_type": "markdown",
   "metadata": {},
   "source": [
    "**Срок сдачи:** 15 декабря 2017, 23:59 <br\\>\n",
    "Штраф за опоздание: -1 балл за каждый день\n",
    "\n",
    "Файл с дз надо загрузить по [ссылке](https://www.dropbox.com/request/OUAxGl2fo2FZTHEdtEEh)<br/>\n",
    "Постарайтесь назвать файл по следующему формату:** [ИАД-*{Номер}*] *{Фамилия}* *{Имя}* ДЗ*{Номер}* **<br/>\n",
    "\n",
    "Сопровождайте ваш код изображеними, комментариями и выводами. <br/>\n",
    "Иммейте ввиду, что на некоторые задачи нет единственного верного и полного ответа. Чем больше информации вы сможете извлечь, аргументированных выводов сформулировать, тем лучше.\n",
    "\n",
    "Используйте данный Ipython Notebook при оформлении домашнего задания."
   ]
  },
  {
   "cell_type": "markdown",
   "metadata": {
    "collapsed": true
   },
   "source": [
    "В этом задании вам необходимо:\n",
    "\n",
    "* Выбрать любой временной ряд, который вы будете прогнозировать; лучше взять ряд с месячным или квартальным разрешением, длиной от 100 отсчётов и не слишком простой (не выглядящий как константа или другая простая функция), иначе вам будет скучно его прогнозировать;\n",
    "* Внести выбранный ряд в [таблицу](https://docs.google.com/spreadsheets/d/1NXTSQfIkAAHHnslrOVb2e0syP3Q3SHz0oZ_7qVor5Lg/edit?usp=sharing), убедившись, что никто другой его не взял - если несколько студентов будут прогнозировать один и тот же ряд, задача не будет засчитана никому из них;\n",
    "* Проанализировать выбранный ряд по аналогии с примером, разбиравшимся на семинаре, и построить его прогноз на 3 года вперёд с помощью модели класса ARIMA.\n",
    "\n",
    "Если вы не знаете, где можно брать ряды, вот несколько источников:\n",
    "\n",
    "* https://datamarket.com/data/list/?q=cat:edb interval:month provider:tsdl\n",
    "* http://sophist.hse.ru/hse/nindex.shtml\n",
    "* https://stat.yandex.ru/\n",
    "* https://www.quandl.com/browse?idx=database-browser_economic-data\n"
   ]
  },
  {
   "cell_type": "markdown",
   "metadata": {},
   "source": []
  }
 ],
 "metadata": {
  "anaconda-cloud": {},
  "kernelspec": {
   "display_name": "Python [default]",
   "language": "python",
   "name": "python2"
  },
  "language_info": {
   "codemirror_mode": {
    "name": "ipython",
    "version": 2
   },
   "file_extension": ".py",
   "mimetype": "text/x-python",
   "name": "python",
   "nbconvert_exporter": "python",
   "pygments_lexer": "ipython2",
   "version": "2.7.14"
  },
  "nav_menu": {},
  "toc": {
   "colors": {
    "hover_highlight": "#DAA520",
    "navigate_num": "#000000",
    "navigate_text": "#333333",
    "running_highlight": "#FF0000",
    "selected_highlight": "#FFD700",
    "sidebar_border": "#EEEEEE",
    "wrapper_background": "#FFFFFF"
   },
   "moveMenuLeft": true,
   "nav_menu": {
    "height": "217px",
    "width": "253px"
   },
   "navigate_menu": true,
   "number_sections": false,
   "sideBar": true,
   "threshold": 4,
   "toc_cell": false,
   "toc_section_display": "block",
   "toc_window_display": true,
   "widenNotebook": false
  }
 },
 "nbformat": 4,
 "nbformat_minor": 1
}
