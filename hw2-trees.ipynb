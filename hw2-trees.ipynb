{
 "cells": [
  {
   "cell_type": "markdown",
   "metadata": {},
   "source": [
    "# Домашняя работа 2"
   ]
  },
  {
   "cell_type": "markdown",
   "metadata": {},
   "source": [
    "**Срок сдачи:** 23 октября 2016, 23:59 <br\\>\n",
    "\n",
    "При отправлении ДЗ на почту указывайте фамилию в названии файла, а тему письма оформляйте в следующем формате: <br\\>\n",
    "** [ИАД] *{Фамилия}* *{Имя}* ДЗ*{Номер}* **<br\\>\n",
    "\n",
    "\n",
    "Сопровождайте ваш код изображеними, комментариями и выводами. <br\\>\n",
    "Иммейте ввиду, что на некоторые задачи нет единственного верного и полного ответа. Чем больше информации вы сможете извлечь, аргументированных выводов сформулировать, тем лучше.\n",
    "\n",
    "Используйте данный Ipython Notebook при оформлении домашнего задания."
   ]
  },
  {
   "cell_type": "markdown",
   "metadata": {},
   "source": [
    "# Table of Contents\n",
    " <p><div class=\"lev1 toc-item\"><a href=\"#Домашняя-работа-2\" data-toc-modified-id=\"Домашняя-работа-2-1\"><span class=\"toc-item-num\">1&nbsp;&nbsp;</span>Домашняя работа 2</a></div><div class=\"lev2 toc-item\"><a href=\"#Работа-с-данными-(4-балла)\" data-toc-modified-id=\"Работа-с-данными-(4-балла)-1.1\"><span class=\"toc-item-num\">1.1&nbsp;&nbsp;</span>Работа с данными (4 балла)</a></div><div class=\"lev2 toc-item\"><a href=\"#Классификация-(6-баллов)\" data-toc-modified-id=\"Классификация-(6-баллов)-1.2\"><span class=\"toc-item-num\">1.2&nbsp;&nbsp;</span>Классификация (6 баллов)</a></div><div class=\"lev3 toc-item\"><a href=\"#Предписания\" data-toc-modified-id=\"Предписания-1.2.1\"><span class=\"toc-item-num\">1.2.1&nbsp;&nbsp;</span>Предписания</a></div><div class=\"lev3 toc-item\"><a href=\"#Задание\" data-toc-modified-id=\"Задание-1.2.2\"><span class=\"toc-item-num\">1.2.2&nbsp;&nbsp;</span>Задание</a></div>"
   ]
  },
  {
   "cell_type": "markdown",
   "metadata": {},
   "source": [
    "Прочтите статью [\"USING\tDATA\tMINING\tTO\tPREDICT\tSECONDARY SCHOOL\tSTUDENT\tALCOHOL\tCONSUMPTION\"](https://www.dropbox.com/s/ww4h9ivnkbyy9xw/STUDENT%20ALCOHOL%20CONSUMPTION%20%281%29.pdf?dl=0).<br\\>\n",
    "Загрузите [датасет](https://archive.ics.uci.edu/ml/datasets/STUDENT+ALCOHOL+CONSUMPTION#), используемый в статье и выполните следующие задания:"
   ]
  },
  {
   "cell_type": "markdown",
   "metadata": {},
   "source": [
    "## Работа с данными (4 балла)\n",
    "1. Приведите описание признаков датасета на русском языке с указанием типа данных (2 балла)\n",
    "2. Описание предобработки данных (2 балла)\n",
    "    - Проверьте наличие пропусков. В случае наличия пропусков заполните их медианными значениями (1 балл)\n",
    "    - Преобразуйте все номинальные признаки в несколько признаков с бинарным значением (1 балл)"
   ]
  },
  {
   "cell_type": "markdown",
   "metadata": {},
   "source": [
    "## Классификация (6 баллов)\n",
    "\n",
    "### Предписания\n",
    "- Используйте accuracy как основную меру качества\n",
    "- Классы в задаче несбалансированные. Для корректной кросс-валидации используйте стратифицированный способ разбиения на фолды [Stratified K-fold](http://scikit-learn.org/stable/modules/generated/sklearn.model_selection.StratifiedKFold.html#sklearn.model_selection.StratifiedKFold)\n",
    "\n",
    "### Задание\n",
    "1. Задайте RANDOM_SEED и случайным образом разделите выборку на обучающую и контрольную в пропорции 80/20. Этот же RANDOM_SEED используйте при кросс-валидации (0.5 балла)\n",
    "2. Random Forest (2 балла)\n",
    "    * В статье описано использование Random Forest для предсказания важности фактором вляющих на потребление алкоголя.<br\\>\n",
    "    * Повторите эксперимент с использованием [RandomForest](http://scikit-learn.org/stable/modules/generated/sklearn.ensemble.RandomForestClassifier.html#sklearn.ensemble.RandomForestClassifier) и найдите наилучшие параметры с помощью кросс-валидации. (1 балл)<br\\>\n",
    "    * Изобразите аналогичную таблицу важности признаков для наилучшей настройки метода (значения могут отличаться). (0.5 балла)<br\\>\n",
    "    * Укажите значение accuracy для пяти наилучших настроек метода на контрольной выборке. (0.5 балла)<br\\>\n",
    "\n",
    "3. GradientBoosting (2 балла)\n",
    "    * Обучите [GradientBoostingClassifier](http://scikit-learn.org/stable/modules/generated/sklearn.ensemble.GradientBoostingClassifier.html#sklearn.ensemble.GradientBoostingClassifier)  и найдите для него наилучшие параметры с помощью кросс-валидации. (0.5 балла)<br\\>\n",
    "    * Изобразите таблицу важности признаков для наилучшей настройки метода. Отличается ли она от таблицы метода RandomForest. Почему? (1 балл)<br\\>\n",
    "    * Укажите значение accuracy для пяти наилучших настроек метода. (0.5 балла)<br\\>\n",
    "\n",
    "4. AdaBoost (1 балл)\n",
    "    * Обучите [AdaBoostClassifier](http://scikit-learn.org/stable/modules/generated/sklearn.ensemble.AdaBoostClassifier.html) и найдите для него наилучшие параметры с помощью кросс-валидации. (0.5 балла)<br\\>\n",
    "    * Укажите значение accuracy для пяти наилучших настроек метода. (0.5 балла)<br\\>\n",
    "\n",
    "5. Какой из классификаторов оказался лучше? (0.5 балла)"
   ]
  }
 ],
 "metadata": {
  "anaconda-cloud": {},
  "kernelspec": {
   "display_name": "Python [conda root]",
   "language": "python",
   "name": "conda-root-py"
  },
  "language_info": {
   "codemirror_mode": {
    "name": "ipython",
    "version": 2
   },
   "file_extension": ".py",
   "mimetype": "text/x-python",
   "name": "python",
   "nbconvert_exporter": "python",
   "pygments_lexer": "ipython2",
   "version": "2.7.12"
  },
  "nav_menu": {},
  "toc": {
   "navigate_menu": true,
   "number_sections": false,
   "sideBar": true,
   "threshold": 6,
   "toc_cell": false,
   "toc_section_display": "block",
   "toc_window_display": true
  }
 },
 "nbformat": 4,
 "nbformat_minor": 0
}
